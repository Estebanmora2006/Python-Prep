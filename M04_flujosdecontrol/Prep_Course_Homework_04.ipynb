{
 "cells": [
  {
   "attachments": {},
   "cell_type": "markdown",
   "metadata": {},
   "source": [
    "## Flujos de Control"
   ]
  },
  {
   "attachments": {},
   "cell_type": "markdown",
   "metadata": {},
   "source": [
    "1) Crear una variable que contenga un elemento del conjunto de números enteros y luego imprimir por pantalla si es mayor o menor a cero"
   ]
  },
  {
   "cell_type": "code",
   "execution_count": 1,
   "metadata": {},
   "outputs": [
    {
     "name": "stdout",
     "output_type": "stream",
     "text": [
      "El resultado es menor\n"
     ]
    }
   ],
   "source": [
    "a = 10\n",
    "if(a < 0):\n",
    "    print(\"El resultado es mayot\")\n",
    "elif (a > 0):\n",
    "    print(\"El resultado es menor\")\n",
    "else:\n",
    "    print(\"La varaibale es igual a ceero\")"
   ]
  },
  {
   "attachments": {},
   "cell_type": "markdown",
   "metadata": {},
   "source": [
    "2) Crear dos variables y un condicional que informe si son del mismo tipo de dato"
   ]
  },
  {
   "cell_type": "code",
   "execution_count": 5,
   "metadata": {},
   "outputs": [
    {
     "name": "stdout",
     "output_type": "stream",
     "text": [
      "El resultado es igual\n"
     ]
    }
   ],
   "source": [
    "a = 2\n",
    "b = 2\n",
    "if (type(a) == type(b)):\n",
    "    print(\"El resultado es igual\")\n",
    "else:\n",
    "    print(\"El resultado no es igual\")"
   ]
  },
  {
   "attachments": {},
   "cell_type": "markdown",
   "metadata": {},
   "source": [
    "3) Para los valores enteros del 1 al 20, imprimir por pantalla si es par o impar"
   ]
  },
  {
   "cell_type": "code",
   "execution_count": 6,
   "metadata": {},
   "outputs": [
    {
     "name": "stdout",
     "output_type": "stream",
     "text": [
      "el numero 1 es inpar\n",
      "el numero 2 es par\n",
      "el numero 3 es inpar\n",
      "el numero 4 es par\n",
      "el numero 5 es inpar\n",
      "el numero 6 es par\n",
      "el numero 7 es inpar\n",
      "el numero 8 es par\n",
      "el numero 9 es inpar\n",
      "el numero 10 es par\n",
      "el numero 11 es inpar\n",
      "el numero 12 es par\n",
      "el numero 13 es inpar\n",
      "el numero 14 es par\n",
      "el numero 15 es inpar\n",
      "el numero 16 es par\n",
      "el numero 17 es inpar\n",
      "el numero 18 es par\n",
      "el numero 19 es inpar\n"
     ]
    }
   ],
   "source": [
    "for a in range(1, 20):\n",
    "    if a % 2 == 0:\n",
    "        print('el numero', str(a), 'es par')\n",
    "    else: \n",
    "        print('el numero', str(a), 'es inpar')"
   ]
  },
  {
   "attachments": {},
   "cell_type": "markdown",
   "metadata": {},
   "source": [
    "4) En un ciclo for mostrar para los valores entre 0 y 5 el resultado de elevarlo a la potencia igual a 3"
   ]
  },
  {
   "cell_type": "code",
   "execution_count": 7,
   "metadata": {},
   "outputs": [
    {
     "name": "stdout",
     "output_type": "stream",
     "text": [
      "El número 0 elevado a la potencia 3 es 0\n",
      "El número 1 elevado a la potencia 3 es 1\n",
      "El número 2 elevado a la potencia 3 es 8\n",
      "El número 3 elevado a la potencia 3 es 27\n",
      "El número 4 elevado a la potencia 3 es 64\n",
      "El número 5 elevado a la potencia 3 es 125\n"
     ]
    }
   ],
   "source": [
    "for i in range(0, 6):\n",
    "    print(f\"El número {i} elevado a la potencia 3 es {i**3}\")"
   ]
  },
  {
   "cell_type": "code",
   "execution_count": null,
   "metadata": {},
   "outputs": [],
   "source": []
  },
  {
   "attachments": {},
   "cell_type": "markdown",
   "metadata": {},
   "source": [
    "5) Crear una variable que contenga un número entero y realizar un ciclo for la misma cantidad de ciclos"
   ]
  },
  {
   "cell_type": "code",
   "execution_count": null,
   "metadata": {},
   "outputs": [
    {
     "name": "stdout",
     "output_type": "stream",
     "text": [
      "Ciclo ejecutado\n",
      "Ciclo ejecutado\n",
      "Ciclo ejecutado\n",
      "Ciclo ejecutado\n",
      "Ciclo ejecutado\n",
      "Ciclo ejecutado\n",
      "Ciclo ejecutado\n"
     ]
    }
   ],
   "source": [
    "n = 7  \n",
    "for _ in range(n):\n",
    "    print(\"Ciclo ejecutado\")"
   ]
  },
  {
   "attachments": {},
   "cell_type": "markdown",
   "metadata": {},
   "source": [
    "6) Utilizar un ciclo while para realizar el factorial de un número guardado en una variable, sólo si la variable contiene un número entero mayor a 0"
   ]
  },
  {
   "cell_type": "code",
   "execution_count": 9,
   "metadata": {},
   "outputs": [
    {
     "name": "stdout",
     "output_type": "stream",
     "text": [
      "El factorial de 7 es 5040\n"
     ]
    }
   ],
   "source": [
    "if isinstance(n, int) and n > 0:\n",
    "    factorial = 1\n",
    "    temp = n\n",
    "    while temp > 1:\n",
    "        factorial *= temp\n",
    "        temp -= 1\n",
    "    print(f\"El factorial de {n} es {factorial}\")\n",
    "else:\n",
    "    print(\"La variable no contiene un número entero mayor a 0\")"
   ]
  },
  {
   "attachments": {},
   "cell_type": "markdown",
   "metadata": {},
   "source": [
    "7) Crear un ciclo for dentro de un ciclo while"
   ]
  },
  {
   "cell_type": "code",
   "execution_count": 10,
   "metadata": {},
   "outputs": [
    {
     "name": "stdout",
     "output_type": "stream",
     "text": [
      "Iteración del ciclo while: 0\n",
      "  Iteración del ciclo for: 0\n",
      "  Iteración del ciclo for: 1\n",
      "Iteración del ciclo while: 1\n",
      "  Iteración del ciclo for: 0\n",
      "  Iteración del ciclo for: 1\n",
      "Iteración del ciclo while: 2\n",
      "  Iteración del ciclo for: 0\n",
      "  Iteración del ciclo for: 1\n"
     ]
    }
   ],
   "source": [
    "counter = 0\n",
    "while counter < 3:  # Ciclo while que se ejecuta 3 veces\n",
    "    print(f\"Iteración del ciclo while: {counter}\")\n",
    "    for j in range(2):  # Ciclo for que se ejecuta 2 veces en cada iteración del while\n",
    "        print(f\"  Iteración del ciclo for: {j}\")\n",
    "    counter += 1"
   ]
  },
  {
   "attachments": {},
   "cell_type": "markdown",
   "metadata": {},
   "source": [
    "8) Crear un ciclo while dentro de un ciclo for"
   ]
  },
  {
   "cell_type": "code",
   "execution_count": 11,
   "metadata": {},
   "outputs": [
    {
     "name": "stdout",
     "output_type": "stream",
     "text": [
      "Iteración del ciclo for: 0\n",
      "  Iteración del ciclo while: 0\n",
      "  Iteración del ciclo while: 1\n",
      "Iteración del ciclo for: 1\n",
      "  Iteración del ciclo while: 0\n",
      "  Iteración del ciclo while: 1\n",
      "Iteración del ciclo for: 2\n",
      "  Iteración del ciclo while: 0\n",
      "  Iteración del ciclo while: 1\n"
     ]
    }
   ],
   "source": [
    "for i in range(3):  # Ciclo for que se ejecuta 3 veces\n",
    "    print(f\"Iteración del ciclo for: {i}\")\n",
    "    counter = 0\n",
    "    while counter < 2:  # Ciclo while que se ejecuta 2 veces en cada iteración del for\n",
    "        print(f\"  Iteración del ciclo while: {counter}\")\n",
    "        counter += 1"
   ]
  },
  {
   "attachments": {},
   "cell_type": "markdown",
   "metadata": {},
   "source": [
    "9) Imprimir los números primos existentes entre 0 y 30"
   ]
  },
  {
   "cell_type": "code",
   "execution_count": 12,
   "metadata": {},
   "outputs": [
    {
     "name": "stdout",
     "output_type": "stream",
     "text": [
      "2\n",
      "3\n",
      "5\n",
      "7\n",
      "11\n",
      "13\n",
      "17\n",
      "19\n",
      "23\n",
      "29\n"
     ]
    }
   ],
   "source": [
    "for num in range(2, 31):  # Iterar desde 2 hasta 30\n",
    "    is_prime = True\n",
    "    for divisor in range(2, int(num**0.5) + 1):  # Probar divisores hasta la raíz cuadrada del número\n",
    "        if num % divisor == 0:\n",
    "            is_prime = False\n",
    "            break\n",
    "    if is_prime:\n",
    "        print(num)"
   ]
  },
  {
   "attachments": {},
   "cell_type": "markdown",
   "metadata": {},
   "source": [
    "10) ¿Se puede mejorar el proceso del punto 9? Utilizar las sentencias break y/ó continue para tal fin"
   ]
  },
  {
   "cell_type": "code",
   "execution_count": 13,
   "metadata": {},
   "outputs": [
    {
     "name": "stdout",
     "output_type": "stream",
     "text": [
      "2\n",
      "3\n",
      "5\n",
      "7\n",
      "11\n",
      "13\n",
      "17\n",
      "19\n",
      "23\n",
      "29\n"
     ]
    }
   ],
   "source": [
    "for num in range(2, 31):  # Iterar desde 2 hasta 30\n",
    "    is_prime = True\n",
    "    for divisor in range(2, int(num**0.5) + 1):  # Probar divisores hasta la raíz cuadrada del número\n",
    "        if num % divisor == 0:\n",
    "            is_prime = False\n",
    "            break  # Salir del bucle si se encuentra un divisor\n",
    "    if not is_prime:\n",
    "        continue  # Saltar a la siguiente iteración si no es primo\n",
    "    print(num)"
   ]
  },
  {
   "attachments": {},
   "cell_type": "markdown",
   "metadata": {},
   "source": [
    "11) En los puntos 9 y 10, se diseño un código que encuentra números primos y además se lo optimizó. ¿Es posible saber en qué medida se optimizó?"
   ]
  },
  {
   "cell_type": "code",
   "execution_count": 14,
   "metadata": {},
   "outputs": [
    {
     "name": "stdout",
     "output_type": "stream",
     "text": [
      "Iteraciones en el punto 9: 45\n",
      "Iteraciones en el punto 10: 45\n",
      "Reducción de iteraciones: 0\n"
     ]
    }
   ],
   "source": [
    "# Contador de iteraciones para el punto 9\n",
    "iterations_point_9 = 0\n",
    "for num in range(2, 31):  # Iterar desde 2 hasta 30\n",
    "    for divisor in range(2, int(num**0.5) + 1):  # Probar divisores hasta la raíz cuadrada del número\n",
    "        iterations_point_9 += 1\n",
    "        if num % divisor == 0:\n",
    "            break\n",
    "\n",
    "# Contador de iteraciones para el punto 10\n",
    "iterations_point_10 = 0\n",
    "for num in range(2, 31):  # Iterar desde 2 hasta 30\n",
    "    for divisor in range(2, int(num**0.5) + 1):  # Probar divisores hasta la raíz cuadrada del número\n",
    "        iterations_point_10 += 1\n",
    "        if num % divisor == 0:\n",
    "            break  # Salir del bucle si se encuentra un divisor\n",
    "\n",
    "print(f\"Iteraciones en el punto 9: {iterations_point_9}\")\n",
    "print(f\"Iteraciones en el punto 10: {iterations_point_10}\")\n",
    "print(f\"Reducción de iteraciones: {iterations_point_9 - iterations_point_10}\")"
   ]
  },
  {
   "attachments": {},
   "cell_type": "markdown",
   "metadata": {},
   "source": [
    "12) Aplicando continue, armar un ciclo while que solo imprima los valores divisibles por 12, dentro del rango de números de 100 a 300"
   ]
  },
  {
   "cell_type": "code",
   "execution_count": 15,
   "metadata": {},
   "outputs": [
    {
     "name": "stdout",
     "output_type": "stream",
     "text": [
      "108\n",
      "120\n",
      "132\n",
      "144\n",
      "156\n",
      "168\n",
      "180\n",
      "192\n",
      "204\n",
      "216\n",
      "228\n",
      "240\n",
      "252\n",
      "264\n",
      "276\n",
      "288\n",
      "300\n"
     ]
    }
   ],
   "source": [
    "num = 100\n",
    "while num <= 300:\n",
    "    if num % 12 != 0:\n",
    "        num += 1\n",
    "        continue\n",
    "    print(num)\n",
    "    num += 1"
   ]
  },
  {
   "attachments": {},
   "cell_type": "markdown",
   "metadata": {},
   "source": [
    "13) Utilizar la función **input()** que permite hacer ingresos por teclado, para encontrar números primos y dar la opción al usario de buscar el siguiente"
   ]
  },
  {
   "cell_type": "code",
   "execution_count": null,
   "metadata": {},
   "outputs": [],
   "source": [
    "while True:\n",
    "    user_input = input(\"Ingrese un número para verificar si es primo o 'salir' para terminar: \")\n",
    "    if user_input.lower() == 'salir':\n",
    "        print(\"Programa terminado.\")\n",
    "        break\n",
    "    try:\n",
    "        num = int(user_input)\n",
    "        if num < 2:\n",
    "            print(f\"{num} no es un número primo.\")\n",
    "            continue\n",
    "        is_prime = True\n",
    "        for divisor in range(2, int(num**0.5) + 1):\n",
    "            if num % divisor == 0:\n",
    "                is_prime = False\n",
    "                break\n",
    "        if is_prime:\n",
    "            print(f\"{num} es un número primo.\")\n",
    "        else:\n",
    "            print(f\"{num} no es un número primo.\")\n",
    "    except ValueError:\n",
    "        print(\"Por favor, ingrese un número válido o 'salir' para terminar.\")"
   ]
  },
  {
   "attachments": {},
   "cell_type": "markdown",
   "metadata": {},
   "source": [
    "14) Crear un ciclo while que encuentre dentro del rango de 100 a 300 el primer número divisible por 3 y además múltiplo de 6"
   ]
  },
  {
   "cell_type": "code",
   "execution_count": 1,
   "metadata": {},
   "outputs": [
    {
     "name": "stdout",
     "output_type": "stream",
     "text": [
      "El primer número divisible por 3 y múltiplo de 6 en el rango es: 102\n"
     ]
    }
   ],
   "source": [
    "num = 100\n",
    "while num <= 300:\n",
    "    if num % 3 == 0 and num % 6 == 0:\n",
    "        print(f\"El primer número divisible por 3 y múltiplo de 6 en el rango es: {num}\")\n",
    "        break\n",
    "    num += 1"
   ]
  }
 ],
 "metadata": {
  "kernelspec": {
   "display_name": "Python 3",
   "language": "python",
   "name": "python3"
  },
  "language_info": {
   "codemirror_mode": {
    "name": "ipython",
    "version": 3
   },
   "file_extension": ".py",
   "mimetype": "text/x-python",
   "name": "python",
   "nbconvert_exporter": "python",
   "pygments_lexer": "ipython3",
   "version": "3.13.3"
  }
 },
 "nbformat": 4,
 "nbformat_minor": 4
}
